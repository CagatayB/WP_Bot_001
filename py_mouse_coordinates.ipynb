{
 "cells": [
  {
   "cell_type": "code",
   "execution_count": 2,
   "metadata": {},
   "outputs": [
    {
     "name": "stdout",
     "output_type": "stream",
     "text": [
      "Point(x=377, y=361)\n",
      "Point(x=457, y=365)\n",
      "Point(x=452, y=320)\n",
      "Point(x=448, y=309)\n",
      "Point(x=446, y=294)\n",
      "Point(x=395, y=346)\n",
      "Point(x=494, y=330)\n",
      "Point(x=486, y=264)\n",
      "Point(x=406, y=278)\n",
      "Point(x=567, y=300)\n"
     ]
    }
   ],
   "source": [
    "import pyautogui\n",
    "import time\n",
    "\n",
    "a= 0\n",
    "while True:\n",
    "    print(pyautogui.position())\n",
    "    time.sleep(1)\n",
    "    a = a+1\n",
    "    if a == 10:\n",
    "        break\n"
   ]
  },
  {
   "cell_type": "code",
   "execution_count": null,
   "metadata": {},
   "outputs": [],
   "source": []
  },
  {
   "cell_type": "code",
   "execution_count": null,
   "metadata": {},
   "outputs": [],
   "source": []
  }
 ],
 "metadata": {
  "kernelspec": {
   "display_name": "Python 3",
   "language": "python",
   "name": "python3"
  },
  "language_info": {
   "codemirror_mode": {
    "name": "ipython",
    "version": 3
   },
   "file_extension": ".py",
   "mimetype": "text/x-python",
   "name": "python",
   "nbconvert_exporter": "python",
   "pygments_lexer": "ipython3",
   "version": "3.8.5"
  }
 },
 "nbformat": 4,
 "nbformat_minor": 4
}

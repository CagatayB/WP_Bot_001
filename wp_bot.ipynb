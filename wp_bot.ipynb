{
 "cells": [
  {
   "cell_type": "code",
   "execution_count": null,
   "metadata": {},
   "outputs": [],
   "source": [
    "import pyautogui\n",
    "import time\n",
    "from selenium import webdriver\n",
    "from selenium.webdriver.support.ui import WebDriverWait\n",
    "from selenium.webdriver.support import expected_conditions as EC\n",
    "from selenium.webdriver.common.keys import Keys\n",
    "from selenium.webdriver.common.by import By\n",
    "\n",
    "\n",
    "#You need to install ChromeDriver if you use Google chrome, for other web browser install it.\n",
    "driver = webdriver.Chrome(\"C:\\\\Users\\\\catay\\\\Desktop\\\\chromedriver_win32\\\\chromedriver.exe\")\n",
    "\n",
    "\n",
    "\n",
    "driver.get(\"https://web.whatsapp.com\")\n",
    "wait = WebDriverWait(driver,600)\n",
    "driver.maximize_window()\n",
    "input(\"Wait for Whatsapp QR code\")\n",
    "\n",
    "name = \"Write the Group or person name\"\n",
    "grup = driver.find_element_by_xpath('//span[@title = \"{}\"]'.format(name))\n",
    "grup.click()\n",
    "box = driver.find_element_by_xpath('//*[@id=\"main\"]/footer/div[1]/div[2]/div/div[2]')\n",
    "\n",
    "box.send_keys(\"TEST MESSAGE\" + Keys.ENTER)\n",
    "\n",
    "time.sleep(10)\n",
    "\n",
    "#You need to find the message coordinate for incoming massage using yautogui lib.\n",
    "pyautogui.click(544, 736)\n",
    "time.sleep(0.1)\n",
    "pyautogui.doubleClick(544,736)\n",
    "time.sleep(0.1)\n",
    "pyautogui.hotkey('ctrl', 'c')\n",
    "\n",
    "incomming_message = pc.paste()\n",
    "\n",
    "\n",
    "if incomming_message == \"Merhaba\":\n",
    "    box.send_keys(\"Merhabalar... :) \"+ Keys.ENTER)"
   ]
  }
 ],
 "metadata": {
  "kernelspec": {
   "display_name": "Python 3",
   "language": "python",
   "name": "python3"
  },
  "language_info": {
   "codemirror_mode": {
    "name": "ipython",
    "version": 3
   },
   "file_extension": ".py",
   "mimetype": "text/x-python",
   "name": "python",
   "nbconvert_exporter": "python",
   "pygments_lexer": "ipython3",
   "version": "3.8.5"
  }
 },
 "nbformat": 4,
 "nbformat_minor": 4
}
